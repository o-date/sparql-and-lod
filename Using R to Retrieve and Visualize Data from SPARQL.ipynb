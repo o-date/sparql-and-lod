{
 "cells": [
  {
   "cell_type": "markdown",
   "metadata": {},
   "source": [
    "In this notebook, we use the R package \"SPARQL\" to query the [Nomisma](http://nomisma.org/sparql) sparql endpoint. We pass the endpoint URL to a variable called 'endpoint', and we pass the FULL sparql query to a variable called 'query'.\n",
    "\n",
    "To run the query, we just run `SPARQL(endpoint,query)`. These results are then passed to a dataframe (which you can think of as the table of the data)."
   ]
  },
  {
   "cell_type": "code",
   "execution_count": 94,
   "metadata": {},
   "outputs": [],
   "source": [
    "# based on https://www.r-bloggers.com/sparql-with-r-in-less-than-5-minutes/\n"
   ]
  },
  {
   "cell_type": "code",
   "execution_count": 2,
   "metadata": {},
   "outputs": [
    {
     "name": "stderr",
     "output_type": "stream",
     "text": [
      "Loading required package: XML\n",
      "Loading required package: RCurl\n",
      "Loading required package: bitops\n"
     ]
    }
   ],
   "source": [
    "library(SPARQL) # SPARQL querying package\n",
    "library(ggplot2)"
   ]
  },
  {
   "cell_type": "markdown",
   "metadata": {},
   "source": [
    "## Step 1 - Set up preliminaries and define query"
   ]
  },
  {
   "cell_type": "code",
   "execution_count": 54,
   "metadata": {},
   "outputs": [],
   "source": [
    "# Define the endpoint\n",
    "endpoint <- \"http://nomisma.org/query\""
   ]
  },
  {
   "cell_type": "code",
   "execution_count": 85,
   "metadata": {},
   "outputs": [],
   "source": [
    "# create query statement\n",
    "# Here we are retrieving coins of RIC Augustus 1A and 1B\n",
    "# Do you see where that part is specified?\n",
    "\n",
    "query <- \"PREFIX rdf:\t\t<http://www.w3.org/1999/02/22-rdf-syntax-ns#>\n",
    "PREFIX dcterms:\t\t<http://purl.org/dc/terms/>\n",
    "PREFIX nm:\t\t<http://nomisma.org/id/>\n",
    "PREFIX nmo:\t\t<http://nomisma.org/ontology#>\n",
    "PREFIX foaf:\t\t<http://xmlns.com/foaf/0.1/>\n",
    "PREFIX skos:\t<http://www.w3.org/2004/02/skos/core#>\n",
    "\n",
    "SELECT ?object ?type ?diameter ?weight ?axis ?type ?collection \n",
    "WHERE {\n",
    "\t{?object nmo:hasTypeSeriesItem <http://numismatics.org/ocre/id/ric.1(2).aug.1A> }\n",
    "\tUNION { ?object nmo:hasTypeSeriesItem <http://numismatics.org/ocre/id/ric.1(2).aug.1B> }\n",
    "\t?object rdf:type nmo:NumismaticObject .\n",
    "\tOPTIONAL { ?object nmo:hasWeight ?weight }\n",
    "\tOPTIONAL { ?object nmo:hasDiameter ?diameter }\n",
    "\tOPTIONAL { ?object nmo:hasAxis ?axis }\n",
    "\tOPTIONAL { ?object dcterms:identifier ?identifier }\n",
    "\tOPTIONAL { ?object nmo:hasCollection ?colUri .\n",
    "\t\t?colUri skos:prefLabel ?collection FILTER(langMatches(lang(?collection), 'EN'))}\n",
    "\t\n",
    "}\"\n"
   ]
  },
  {
   "cell_type": "markdown",
   "metadata": {},
   "source": [
    "## Step 2 - Use SPARQL package to submit query and save results to a data frame"
   ]
  },
  {
   "cell_type": "code",
   "execution_count": 86,
   "metadata": {},
   "outputs": [],
   "source": [
    "qd <- SPARQL(endpoint,query)\n",
    "df <- qd$results"
   ]
  },
  {
   "cell_type": "code",
   "execution_count": 93,
   "metadata": {},
   "outputs": [
    {
     "data": {
      "text/html": [
       "<table>\n",
       "<thead><tr><th scope=col>object</th><th scope=col>type</th><th scope=col>diameter</th><th scope=col>weight</th><th scope=col>axis</th><th scope=col>collection</th></tr></thead>\n",
       "<tbody>\n",
       "\t<tr><td>&lt;http://collection.britishmuseum.org/id/object/CGR219967&gt;         </td><td>NA                                                                      </td><td><span style=white-space:pre-wrap>  NA</span>                            </td><td>1.51                                                                    </td><td> 2                                                                      </td><td><span style=white-space:pre-wrap>\"British Museum\"@en             </span></td></tr>\n",
       "\t<tr><td>&lt;http://collection.britishmuseum.org/id/object/CGR219966&gt;         </td><td>NA                                                                      </td><td><span style=white-space:pre-wrap>  NA</span>                            </td><td>1.71                                                                    </td><td> 8                                                                      </td><td><span style=white-space:pre-wrap>\"British Museum\"@en             </span></td></tr>\n",
       "\t<tr><td>&lt;http://collection.britishmuseum.org/id/object/CGR90067&gt;          </td><td>NA                                                                      </td><td><span style=white-space:pre-wrap>  NA</span>                            </td><td>1.55                                                                    </td><td> 4                                                                      </td><td><span style=white-space:pre-wrap>\"British Museum\"@en             </span></td></tr>\n",
       "\t<tr><td>&lt;http://collection.britishmuseum.org/id/object/CGR90066&gt;          </td><td>NA                                                                      </td><td><span style=white-space:pre-wrap>  NA</span>                            </td><td>1.81                                                                    </td><td> 7                                                                      </td><td><span style=white-space:pre-wrap>\"British Museum\"@en             </span></td></tr>\n",
       "\t<tr><td><span style=white-space:pre-wrap>&lt;http://data.fitzmuseum.cam.ac.uk/id/object/103909&gt;      </span></td><td>NA                                                                                                     </td><td><span style=white-space:pre-wrap>  NA</span>                                                           </td><td>1.55                                                                                                   </td><td>12                                                                                                     </td><td><span style=white-space:pre-wrap>\"Fitzwilliam Museum\"@en         </span>                               </td></tr>\n",
       "\t<tr><td><span style=white-space:pre-wrap>&lt;http://numismatics.org/collection/1944.100.39025&gt;       </span></td><td>NA                                                                                                     </td><td>14.5                                                                                                   </td><td>1.75                                                                                                   </td><td> 2                                                                                                     </td><td>\"American Numismatic Society\"@en                                                                       </td></tr>\n",
       "</tbody>\n",
       "</table>\n"
      ],
      "text/latex": [
       "\\begin{tabular}{r|llllll}\n",
       " object & type & diameter & weight & axis & collection\\\\\n",
       "\\hline\n",
       "\t <http://collection.britishmuseum.org/id/object/CGR219967> & NA                                                        &   NA                                                      & 1.51                                                      &  2                                                        & \"British Museum\"@en                                      \\\\\n",
       "\t <http://collection.britishmuseum.org/id/object/CGR219966> & NA                                                        &   NA                                                      & 1.71                                                      &  8                                                        & \"British Museum\"@en                                      \\\\\n",
       "\t <http://collection.britishmuseum.org/id/object/CGR90067>  & NA                                                        &   NA                                                      & 1.55                                                      &  4                                                        & \"British Museum\"@en                                      \\\\\n",
       "\t <http://collection.britishmuseum.org/id/object/CGR90066>  & NA                                                        &   NA                                                      & 1.81                                                      &  7                                                        & \"British Museum\"@en                                      \\\\\n",
       "\t <http://data.fitzmuseum.cam.ac.uk/id/object/103909>       & NA                                                        &   NA                                                      & 1.55                                                      & 12                                                        & \"Fitzwilliam Museum\"@en                                  \\\\\n",
       "\t <http://numismatics.org/collection/1944.100.39025>        & NA                                                        & 14.5                                                      & 1.75                                                      &  2                                                        & \"American Numismatic Society\"@en                         \\\\\n",
       "\\end{tabular}\n"
      ],
      "text/markdown": [
       "\n",
       "object | type | diameter | weight | axis | collection | \n",
       "|---|---|---|---|---|---|\n",
       "| <http://collection.britishmuseum.org/id/object/CGR219967> | NA                                                        |   NA                                                      | 1.51                                                      |  2                                                        | \"British Museum\"@en                                       | \n",
       "| <http://collection.britishmuseum.org/id/object/CGR219966> | NA                                                        |   NA                                                      | 1.71                                                      |  8                                                        | \"British Museum\"@en                                       | \n",
       "| <http://collection.britishmuseum.org/id/object/CGR90067>  | NA                                                        |   NA                                                      | 1.55                                                      |  4                                                        | \"British Museum\"@en                                       | \n",
       "| <http://collection.britishmuseum.org/id/object/CGR90066>  | NA                                                        |   NA                                                      | 1.81                                                      |  7                                                        | \"British Museum\"@en                                       | \n",
       "| <http://data.fitzmuseum.cam.ac.uk/id/object/103909>       | NA                                                        |   NA                                                      | 1.55                                                      | 12                                                        | \"Fitzwilliam Museum\"@en                                   | \n",
       "| <http://numismatics.org/collection/1944.100.39025>        | NA                                                        | 14.5                                                      | 1.75                                                      |  2                                                        | \"American Numismatic Society\"@en                          | \n",
       "\n",
       "\n"
      ],
      "text/plain": [
       "  object                                                    type diameter\n",
       "1 <http://collection.britishmuseum.org/id/object/CGR219967> NA     NA    \n",
       "2 <http://collection.britishmuseum.org/id/object/CGR219966> NA     NA    \n",
       "3 <http://collection.britishmuseum.org/id/object/CGR90067>  NA     NA    \n",
       "4 <http://collection.britishmuseum.org/id/object/CGR90066>  NA     NA    \n",
       "5 <http://data.fitzmuseum.cam.ac.uk/id/object/103909>       NA     NA    \n",
       "6 <http://numismatics.org/collection/1944.100.39025>        NA   14.5    \n",
       "  weight axis collection                      \n",
       "1 1.51    2   \"British Museum\"@en             \n",
       "2 1.71    8   \"British Museum\"@en             \n",
       "3 1.55    4   \"British Museum\"@en             \n",
       "4 1.81    7   \"British Museum\"@en             \n",
       "5 1.55   12   \"Fitzwilliam Museum\"@en         \n",
       "6 1.75    2   \"American Numismatic Society\"@en"
      ]
     },
     "metadata": {},
     "output_type": "display_data"
    }
   ],
   "source": [
    "# check the first few rows to see what we've got\n",
    "head(df)"
   ]
  },
  {
   "cell_type": "markdown",
   "metadata": {},
   "source": [
    "## Step 3 - Fix data class if necessary"
   ]
  },
  {
   "cell_type": "code",
   "execution_count": 88,
   "metadata": {},
   "outputs": [
    {
     "name": "stdout",
     "output_type": "stream",
     "text": [
      "'data.frame':\t28 obs. of  6 variables:\n",
      " $ object    : chr  \"<http://collection.britishmuseum.org/id/object/CGR219967>\" \"<http://collection.britishmuseum.org/id/object/CGR219966>\" \"<http://collection.britishmuseum.org/id/object/CGR90067>\" \"<http://collection.britishmuseum.org/id/object/CGR90066>\" ...\n",
      " $ type      : logi  NA NA NA NA NA NA ...\n",
      " $ diameter  : num  NA NA NA NA NA 14.5 13.5 13.5 14.5 14 ...\n",
      " $ weight    : num  1.51 1.71 1.55 1.81 1.55 1.75 1.63 1.48 1.73 1.66 ...\n",
      " $ axis      : int  2 8 4 7 12 2 9 5 5 2 ...\n",
      " $ collection: chr  \"\\\"British Museum\\\"@en\" \"\\\"British Museum\\\"@en\" \"\\\"British Museum\\\"@en\" \"\\\"British Museum\\\"@en\" ...\n"
     ]
    }
   ],
   "source": [
    "# Numbers are sometimes returned as characters\n",
    "#check to see if a column is character (chr) or numeric\n",
    "str(df)"
   ]
  },
  {
   "cell_type": "code",
   "execution_count": 82,
   "metadata": {},
   "outputs": [],
   "source": [
    "# if any of the columns were coded as characters, but we needed them as numeric, we\n",
    "# could select the relevant column with the $ and convert it like so:\n",
    "# eg, if 'weight' was chr, we select the weight column and we copy it, turn it into numeric, and paste it back in place\n",
    "\n",
    "#df$weight <- as.numeric(as.character(df$weight))\n",
    "#str(df)"
   ]
  },
  {
   "cell_type": "markdown",
   "metadata": {},
   "source": [
    "## Step 4 See what we've got"
   ]
  },
  {
   "cell_type": "code",
   "execution_count": 89,
   "metadata": {},
   "outputs": [
    {
     "data": {
      "text/html": [
       "1.65639285714286"
      ],
      "text/latex": [
       "1.65639285714286"
      ],
      "text/markdown": [
       "1.65639285714286"
      ],
      "text/plain": [
       "[1] 1.656393"
      ]
     },
     "metadata": {},
     "output_type": "display_data"
    },
    {
     "data": {
      "text/html": [
       "7.28571428571429"
      ],
      "text/latex": [
       "7.28571428571429"
      ],
      "text/markdown": [
       "7.28571428571429"
      ],
      "text/plain": [
       "[1] 7.285714"
      ]
     },
     "metadata": {},
     "output_type": "display_data"
    },
    {
     "data": {
      "text/html": [
       "13.755625"
      ],
      "text/latex": [
       "13.755625"
      ],
      "text/markdown": [
       "13.755625"
      ],
      "text/plain": [
       "[1] 13.75563"
      ]
     },
     "metadata": {},
     "output_type": "display_data"
    }
   ],
   "source": [
    "# so now we could do some statistics. Incidentally, there were empty cells that now have <NA> in them; we need to ignore them when we calculate the mean\n",
    "mean(df$weight, na.rm = TRUE)\n",
    "mean(df$axis, na.rm = TRUE)\n",
    "mean(df$diameter, na.rm = TRUE)"
   ]
  },
  {
   "cell_type": "code",
   "execution_count": 90,
   "metadata": {},
   "outputs": [
    {
     "data": {
      "text/plain": [
       "                                             \n",
       "                                              12 13 13.09 13.5 14 14.5 15\n",
       "  \"American Numismatic Society\"@en             0  0     0    2  1    4  1\n",
       "  \"British Museum\"@en                          0  0     0    0  0    0  0\n",
       "  \"Fitzwilliam Museum\"@en                      0  0     0    0  0    0  0\n",
       "  \"Münzkabinett Berlin\"@en                     1  3     0    0  3    0  0\n",
       "  \"Münzkabinett der Universität Göttingen\"@en  0  0     1    0  0    0  0\n",
       "  \"University of Graz\"@en                      0  0     0    0  0    0  0"
      ]
     },
     "metadata": {},
     "output_type": "display_data"
    }
   ],
   "source": [
    "# how many examples do we have from each collection, with how many at what diameter?\n",
    "summary_table <- table(df$collection, df$diameter)\n",
    "summary_table"
   ]
  },
  {
   "cell_type": "markdown",
   "metadata": {},
   "source": [
    "# Step 5 - Visualize some aspects of the data"
   ]
  },
  {
   "cell_type": "code",
   "execution_count": 91,
   "metadata": {},
   "outputs": [
    {
     "name": "stderr",
     "output_type": "stream",
     "text": [
      "`geom_smooth()` using method = 'loess'\n"
     ]
    },
    {
     "data": {},
     "metadata": {},
     "output_type": "display_data"
    },
    {
     "data": {
      "image/png": "[encoded data removed]",
      "text/plain": [
       "plot without title"
      ]
     },
     "metadata": {},
     "output_type": "display_data"
    }
   ],
   "source": [
    "# Let's imagine that it is meaningful to compare the weight of the coins against the axis\n",
    "ggplot(df, aes(x=df$axis, y=df$weight)) +\n",
    "geom_point() +\n",
    "stat_smooth() +\n",
    "xlab(\"Coin Axis\") +\n",
    "ylab(\"Coin Weight\")"
   ]
  },
  {
   "cell_type": "code",
   "execution_count": null,
   "metadata": {},
   "outputs": [],
   "source": []
  }
 ],
 "metadata": {
  "kernelspec": {
   "display_name": "R",
   "language": "R",
   "name": "ir"
  },
  "language_info": {
   "codemirror_mode": "r",
   "file_extension": ".r",
   "mimetype": "text/x-r-source",
   "name": "R",
   "pygments_lexer": "r",
   "version": "3.4.4"
  }
 },
 "nbformat": 4,
 "nbformat_minor": 2
}
